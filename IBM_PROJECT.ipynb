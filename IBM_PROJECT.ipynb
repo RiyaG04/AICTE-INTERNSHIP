{
  "nbformat": 4,
  "nbformat_minor": 0,
  "metadata": {
    "colab": {
      "provenance": [],
      "authorship_tag": "ABX9TyP+zKtZpLghTf3mthkursHu",
      "include_colab_link": true
    },
    "kernelspec": {
      "name": "python3",
      "display_name": "Python 3"
    },
    "language_info": {
      "name": "python"
    }
  },
  "cells": [
    {
      "cell_type": "markdown",
      "metadata": {
        "id": "view-in-github",
        "colab_type": "text"
      },
      "source": [
        "<a href=\"https://colab.research.google.com/github/RiyaG04/AICTE-INTERNSHIP/blob/main/IBM_PROJECT.ipynb\" target=\"_parent\"><img src=\"https://colab.research.google.com/assets/colab-badge.svg\" alt=\"Open In Colab\"/></a>"
      ]
    },
    {
      "cell_type": "code",
      "execution_count": null,
      "metadata": {
        "id": "oFV4JJx8z5SZ"
      },
      "outputs": [],
      "source": [
        "from google.colab import drive"
      ]
    },
    {
      "cell_type": "code",
      "source": [
        "drive.mount('/content/drive')"
      ],
      "metadata": {
        "colab": {
          "base_uri": "https://localhost:8080/"
        },
        "id": "rY_FyOlf03d_",
        "outputId": "7a02fbff-e07a-4c09-9008-a21bc3a250c7"
      },
      "execution_count": null,
      "outputs": [
        {
          "output_type": "stream",
          "name": "stdout",
          "text": [
            "Mounted at /content/drive\n"
          ]
        }
      ]
    },
    {
      "cell_type": "code",
      "source": [
        "# import utilities\n",
        "import pandas as pd\n",
        "import numpy as np\n",
        "from sklearn.model_selection import train_test_split,GridSearchCV\n",
        "from sklearn.metrics import accuracy_score"
      ],
      "metadata": {
        "id": "KbLQ0JAd03g7"
      },
      "execution_count": null,
      "outputs": []
    },
    {
      "cell_type": "code",
      "source": [
        "# load dataset\n",
        "df1=pd.read_csv(\"/content/drive/MyDrive/mental-and-substance-use-as-share-of-disease.csv\")"
      ],
      "metadata": {
        "id": "Mj29fnLW03kE"
      },
      "execution_count": null,
      "outputs": []
    },
    {
      "cell_type": "code",
      "source": [
        "df2=pd.read_csv(\"/content/drive/MyDrive/prevalence-by-mental-and-substance-use-disorder.csv\")"
      ],
      "metadata": {
        "id": "DG9hagMk03l2"
      },
      "execution_count": null,
      "outputs": []
    },
    {
      "cell_type": "code",
      "source": [
        "# chrckinh datset 5 rows\n",
        "df1.head()"
      ],
      "metadata": {
        "colab": {
          "base_uri": "https://localhost:8080/",
          "height": 206
        },
        "id": "N31ChA1n03qB",
        "outputId": "01c45b7f-1f66-45cd-e481-5f888faa75ad"
      },
      "execution_count": null,
      "outputs": [
        {
          "output_type": "execute_result",
          "data": {
            "text/plain": [
              "        Entity Code  Year  \\\n",
              "0  Afghanistan  AFG  1990   \n",
              "1  Afghanistan  AFG  1991   \n",
              "2  Afghanistan  AFG  1992   \n",
              "3  Afghanistan  AFG  1993   \n",
              "4  Afghanistan  AFG  1994   \n",
              "\n",
              "   DALYs (Disability-Adjusted Life Years) - Mental disorders - Sex: Both - Age: All Ages (Percent)  \n",
              "0                                           1.696670                                                \n",
              "1                                           1.734281                                                \n",
              "2                                           1.791189                                                \n",
              "3                                           1.776779                                                \n",
              "4                                           1.712986                                                "
            ],
            "text/html": [
              "\n",
              "  <div id=\"df-6fecd3ad-e122-4c2b-a3cc-ccef32434099\">\n",
              "    <div class=\"colab-df-container\">\n",
              "      <div>\n",
              "<style scoped>\n",
              "    .dataframe tbody tr th:only-of-type {\n",
              "        vertical-align: middle;\n",
              "    }\n",
              "\n",
              "    .dataframe tbody tr th {\n",
              "        vertical-align: top;\n",
              "    }\n",
              "\n",
              "    .dataframe thead th {\n",
              "        text-align: right;\n",
              "    }\n",
              "</style>\n",
              "<table border=\"1\" class=\"dataframe\">\n",
              "  <thead>\n",
              "    <tr style=\"text-align: right;\">\n",
              "      <th></th>\n",
              "      <th>Entity</th>\n",
              "      <th>Code</th>\n",
              "      <th>Year</th>\n",
              "      <th>DALYs (Disability-Adjusted Life Years) - Mental disorders - Sex: Both - Age: All Ages (Percent)</th>\n",
              "    </tr>\n",
              "  </thead>\n",
              "  <tbody>\n",
              "    <tr>\n",
              "      <th>0</th>\n",
              "      <td>Afghanistan</td>\n",
              "      <td>AFG</td>\n",
              "      <td>1990</td>\n",
              "      <td>1.696670</td>\n",
              "    </tr>\n",
              "    <tr>\n",
              "      <th>1</th>\n",
              "      <td>Afghanistan</td>\n",
              "      <td>AFG</td>\n",
              "      <td>1991</td>\n",
              "      <td>1.734281</td>\n",
              "    </tr>\n",
              "    <tr>\n",
              "      <th>2</th>\n",
              "      <td>Afghanistan</td>\n",
              "      <td>AFG</td>\n",
              "      <td>1992</td>\n",
              "      <td>1.791189</td>\n",
              "    </tr>\n",
              "    <tr>\n",
              "      <th>3</th>\n",
              "      <td>Afghanistan</td>\n",
              "      <td>AFG</td>\n",
              "      <td>1993</td>\n",
              "      <td>1.776779</td>\n",
              "    </tr>\n",
              "    <tr>\n",
              "      <th>4</th>\n",
              "      <td>Afghanistan</td>\n",
              "      <td>AFG</td>\n",
              "      <td>1994</td>\n",
              "      <td>1.712986</td>\n",
              "    </tr>\n",
              "  </tbody>\n",
              "</table>\n",
              "</div>\n",
              "      <button class=\"colab-df-convert\" onclick=\"convertToInteractive('df-6fecd3ad-e122-4c2b-a3cc-ccef32434099')\"\n",
              "              title=\"Convert this dataframe to an interactive table.\"\n",
              "              style=\"display:none;\">\n",
              "        \n",
              "  <svg xmlns=\"http://www.w3.org/2000/svg\" height=\"24px\"viewBox=\"0 0 24 24\"\n",
              "       width=\"24px\">\n",
              "    <path d=\"M0 0h24v24H0V0z\" fill=\"none\"/>\n",
              "    <path d=\"M18.56 5.44l.94 2.06.94-2.06 2.06-.94-2.06-.94-.94-2.06-.94 2.06-2.06.94zm-11 1L8.5 8.5l.94-2.06 2.06-.94-2.06-.94L8.5 2.5l-.94 2.06-2.06.94zm10 10l.94 2.06.94-2.06 2.06-.94-2.06-.94-.94-2.06-.94 2.06-2.06.94z\"/><path d=\"M17.41 7.96l-1.37-1.37c-.4-.4-.92-.59-1.43-.59-.52 0-1.04.2-1.43.59L10.3 9.45l-7.72 7.72c-.78.78-.78 2.05 0 2.83L4 21.41c.39.39.9.59 1.41.59.51 0 1.02-.2 1.41-.59l7.78-7.78 2.81-2.81c.8-.78.8-2.07 0-2.86zM5.41 20L4 18.59l7.72-7.72 1.47 1.35L5.41 20z\"/>\n",
              "  </svg>\n",
              "      </button>\n",
              "      \n",
              "  <style>\n",
              "    .colab-df-container {\n",
              "      display:flex;\n",
              "      flex-wrap:wrap;\n",
              "      gap: 12px;\n",
              "    }\n",
              "\n",
              "    .colab-df-convert {\n",
              "      background-color: #E8F0FE;\n",
              "      border: none;\n",
              "      border-radius: 50%;\n",
              "      cursor: pointer;\n",
              "      display: none;\n",
              "      fill: #1967D2;\n",
              "      height: 32px;\n",
              "      padding: 0 0 0 0;\n",
              "      width: 32px;\n",
              "    }\n",
              "\n",
              "    .colab-df-convert:hover {\n",
              "      background-color: #E2EBFA;\n",
              "      box-shadow: 0px 1px 2px rgba(60, 64, 67, 0.3), 0px 1px 3px 1px rgba(60, 64, 67, 0.15);\n",
              "      fill: #174EA6;\n",
              "    }\n",
              "\n",
              "    [theme=dark] .colab-df-convert {\n",
              "      background-color: #3B4455;\n",
              "      fill: #D2E3FC;\n",
              "    }\n",
              "\n",
              "    [theme=dark] .colab-df-convert:hover {\n",
              "      background-color: #434B5C;\n",
              "      box-shadow: 0px 1px 3px 1px rgba(0, 0, 0, 0.15);\n",
              "      filter: drop-shadow(0px 1px 2px rgba(0, 0, 0, 0.3));\n",
              "      fill: #FFFFFF;\n",
              "    }\n",
              "  </style>\n",
              "\n",
              "      <script>\n",
              "        const buttonEl =\n",
              "          document.querySelector('#df-6fecd3ad-e122-4c2b-a3cc-ccef32434099 button.colab-df-convert');\n",
              "        buttonEl.style.display =\n",
              "          google.colab.kernel.accessAllowed ? 'block' : 'none';\n",
              "\n",
              "        async function convertToInteractive(key) {\n",
              "          const element = document.querySelector('#df-6fecd3ad-e122-4c2b-a3cc-ccef32434099');\n",
              "          const dataTable =\n",
              "            await google.colab.kernel.invokeFunction('convertToInteractive',\n",
              "                                                     [key], {});\n",
              "          if (!dataTable) return;\n",
              "\n",
              "          const docLinkHtml = 'Like what you see? Visit the ' +\n",
              "            '<a target=\"_blank\" href=https://colab.research.google.com/notebooks/data_table.ipynb>data table notebook</a>'\n",
              "            + ' to learn more about interactive tables.';\n",
              "          element.innerHTML = '';\n",
              "          dataTable['output_type'] = 'display_data';\n",
              "          await google.colab.output.renderOutput(dataTable, element);\n",
              "          const docLink = document.createElement('div');\n",
              "          docLink.innerHTML = docLinkHtml;\n",
              "          element.appendChild(docLink);\n",
              "        }\n",
              "      </script>\n",
              "    </div>\n",
              "  </div>\n",
              "  "
            ]
          },
          "metadata": {},
          "execution_count": 72
        }
      ]
    },
    {
      "cell_type": "code",
      "source": [
        "df2.head()"
      ],
      "metadata": {
        "colab": {
          "base_uri": "https://localhost:8080/",
          "height": 319
        },
        "id": "WXQ9nM301kS0",
        "outputId": "50ed61f2-7ddb-4e0e-9183-88a26100f4b2"
      },
      "execution_count": null,
      "outputs": [
        {
          "output_type": "execute_result",
          "data": {
            "text/plain": [
              "        Entity Code  Year  \\\n",
              "0  Afghanistan  AFG  1990   \n",
              "1  Afghanistan  AFG  1991   \n",
              "2  Afghanistan  AFG  1992   \n",
              "3  Afghanistan  AFG  1993   \n",
              "4  Afghanistan  AFG  1994   \n",
              "\n",
              "   Prevalence - Schizophrenia - Sex: Both - Age: Age-standardized (Percent)  \\\n",
              "0                                           0.228979                          \n",
              "1                                           0.228120                          \n",
              "2                                           0.227328                          \n",
              "3                                           0.226468                          \n",
              "4                                           0.225567                          \n",
              "\n",
              "   Prevalence - Bipolar disorder - Sex: Both - Age: Age-standardized (Percent)  \\\n",
              "0                                           0.721207                             \n",
              "1                                           0.719952                             \n",
              "2                                           0.718418                             \n",
              "3                                           0.717452                             \n",
              "4                                           0.717012                             \n",
              "\n",
              "   Prevalence - Eating disorders - Sex: Both - Age: Age-standardized (Percent)  \\\n",
              "0                                           0.131001                             \n",
              "1                                           0.126395                             \n",
              "2                                           0.121832                             \n",
              "3                                           0.117942                             \n",
              "4                                           0.114547                             \n",
              "\n",
              "   Prevalence - Anxiety disorders - Sex: Both - Age: Age-standardized (Percent)  \\\n",
              "0                                           4.835127                              \n",
              "1                                           4.821765                              \n",
              "2                                           4.801434                              \n",
              "3                                           4.789363                              \n",
              "4                                           4.784923                              \n",
              "\n",
              "   Prevalence - Drug use disorders - Sex: Both - Age: Age-standardized (Percent)  \\\n",
              "0                                           0.454202                               \n",
              "1                                           0.447112                               \n",
              "2                                           0.441190                               \n",
              "3                                           0.435581                               \n",
              "4                                           0.431822                               \n",
              "\n",
              "   Prevalence - Depressive disorders - Sex: Both - Age: Age-standardized (Percent)  \\\n",
              "0                                           5.125291                                 \n",
              "1                                           5.116306                                 \n",
              "2                                           5.106558                                 \n",
              "3                                           5.100328                                 \n",
              "4                                           5.099424                                 \n",
              "\n",
              "   Prevalence - Alcohol use disorders - Sex: Both - Age: Age-standardized (Percent)  \n",
              "0                                           0.444036                                 \n",
              "1                                           0.444250                                 \n",
              "2                                           0.445501                                 \n",
              "3                                           0.445958                                 \n",
              "4                                           0.445779                                 "
            ],
            "text/html": [
              "\n",
              "  <div id=\"df-f535607b-5036-4808-b4e4-781b5b81279d\">\n",
              "    <div class=\"colab-df-container\">\n",
              "      <div>\n",
              "<style scoped>\n",
              "    .dataframe tbody tr th:only-of-type {\n",
              "        vertical-align: middle;\n",
              "    }\n",
              "\n",
              "    .dataframe tbody tr th {\n",
              "        vertical-align: top;\n",
              "    }\n",
              "\n",
              "    .dataframe thead th {\n",
              "        text-align: right;\n",
              "    }\n",
              "</style>\n",
              "<table border=\"1\" class=\"dataframe\">\n",
              "  <thead>\n",
              "    <tr style=\"text-align: right;\">\n",
              "      <th></th>\n",
              "      <th>Entity</th>\n",
              "      <th>Code</th>\n",
              "      <th>Year</th>\n",
              "      <th>Prevalence - Schizophrenia - Sex: Both - Age: Age-standardized (Percent)</th>\n",
              "      <th>Prevalence - Bipolar disorder - Sex: Both - Age: Age-standardized (Percent)</th>\n",
              "      <th>Prevalence - Eating disorders - Sex: Both - Age: Age-standardized (Percent)</th>\n",
              "      <th>Prevalence - Anxiety disorders - Sex: Both - Age: Age-standardized (Percent)</th>\n",
              "      <th>Prevalence - Drug use disorders - Sex: Both - Age: Age-standardized (Percent)</th>\n",
              "      <th>Prevalence - Depressive disorders - Sex: Both - Age: Age-standardized (Percent)</th>\n",
              "      <th>Prevalence - Alcohol use disorders - Sex: Both - Age: Age-standardized (Percent)</th>\n",
              "    </tr>\n",
              "  </thead>\n",
              "  <tbody>\n",
              "    <tr>\n",
              "      <th>0</th>\n",
              "      <td>Afghanistan</td>\n",
              "      <td>AFG</td>\n",
              "      <td>1990</td>\n",
              "      <td>0.228979</td>\n",
              "      <td>0.721207</td>\n",
              "      <td>0.131001</td>\n",
              "      <td>4.835127</td>\n",
              "      <td>0.454202</td>\n",
              "      <td>5.125291</td>\n",
              "      <td>0.444036</td>\n",
              "    </tr>\n",
              "    <tr>\n",
              "      <th>1</th>\n",
              "      <td>Afghanistan</td>\n",
              "      <td>AFG</td>\n",
              "      <td>1991</td>\n",
              "      <td>0.228120</td>\n",
              "      <td>0.719952</td>\n",
              "      <td>0.126395</td>\n",
              "      <td>4.821765</td>\n",
              "      <td>0.447112</td>\n",
              "      <td>5.116306</td>\n",
              "      <td>0.444250</td>\n",
              "    </tr>\n",
              "    <tr>\n",
              "      <th>2</th>\n",
              "      <td>Afghanistan</td>\n",
              "      <td>AFG</td>\n",
              "      <td>1992</td>\n",
              "      <td>0.227328</td>\n",
              "      <td>0.718418</td>\n",
              "      <td>0.121832</td>\n",
              "      <td>4.801434</td>\n",
              "      <td>0.441190</td>\n",
              "      <td>5.106558</td>\n",
              "      <td>0.445501</td>\n",
              "    </tr>\n",
              "    <tr>\n",
              "      <th>3</th>\n",
              "      <td>Afghanistan</td>\n",
              "      <td>AFG</td>\n",
              "      <td>1993</td>\n",
              "      <td>0.226468</td>\n",
              "      <td>0.717452</td>\n",
              "      <td>0.117942</td>\n",
              "      <td>4.789363</td>\n",
              "      <td>0.435581</td>\n",
              "      <td>5.100328</td>\n",
              "      <td>0.445958</td>\n",
              "    </tr>\n",
              "    <tr>\n",
              "      <th>4</th>\n",
              "      <td>Afghanistan</td>\n",
              "      <td>AFG</td>\n",
              "      <td>1994</td>\n",
              "      <td>0.225567</td>\n",
              "      <td>0.717012</td>\n",
              "      <td>0.114547</td>\n",
              "      <td>4.784923</td>\n",
              "      <td>0.431822</td>\n",
              "      <td>5.099424</td>\n",
              "      <td>0.445779</td>\n",
              "    </tr>\n",
              "  </tbody>\n",
              "</table>\n",
              "</div>\n",
              "      <button class=\"colab-df-convert\" onclick=\"convertToInteractive('df-f535607b-5036-4808-b4e4-781b5b81279d')\"\n",
              "              title=\"Convert this dataframe to an interactive table.\"\n",
              "              style=\"display:none;\">\n",
              "        \n",
              "  <svg xmlns=\"http://www.w3.org/2000/svg\" height=\"24px\"viewBox=\"0 0 24 24\"\n",
              "       width=\"24px\">\n",
              "    <path d=\"M0 0h24v24H0V0z\" fill=\"none\"/>\n",
              "    <path d=\"M18.56 5.44l.94 2.06.94-2.06 2.06-.94-2.06-.94-.94-2.06-.94 2.06-2.06.94zm-11 1L8.5 8.5l.94-2.06 2.06-.94-2.06-.94L8.5 2.5l-.94 2.06-2.06.94zm10 10l.94 2.06.94-2.06 2.06-.94-2.06-.94-.94-2.06-.94 2.06-2.06.94z\"/><path d=\"M17.41 7.96l-1.37-1.37c-.4-.4-.92-.59-1.43-.59-.52 0-1.04.2-1.43.59L10.3 9.45l-7.72 7.72c-.78.78-.78 2.05 0 2.83L4 21.41c.39.39.9.59 1.41.59.51 0 1.02-.2 1.41-.59l7.78-7.78 2.81-2.81c.8-.78.8-2.07 0-2.86zM5.41 20L4 18.59l7.72-7.72 1.47 1.35L5.41 20z\"/>\n",
              "  </svg>\n",
              "      </button>\n",
              "      \n",
              "  <style>\n",
              "    .colab-df-container {\n",
              "      display:flex;\n",
              "      flex-wrap:wrap;\n",
              "      gap: 12px;\n",
              "    }\n",
              "\n",
              "    .colab-df-convert {\n",
              "      background-color: #E8F0FE;\n",
              "      border: none;\n",
              "      border-radius: 50%;\n",
              "      cursor: pointer;\n",
              "      display: none;\n",
              "      fill: #1967D2;\n",
              "      height: 32px;\n",
              "      padding: 0 0 0 0;\n",
              "      width: 32px;\n",
              "    }\n",
              "\n",
              "    .colab-df-convert:hover {\n",
              "      background-color: #E2EBFA;\n",
              "      box-shadow: 0px 1px 2px rgba(60, 64, 67, 0.3), 0px 1px 3px 1px rgba(60, 64, 67, 0.15);\n",
              "      fill: #174EA6;\n",
              "    }\n",
              "\n",
              "    [theme=dark] .colab-df-convert {\n",
              "      background-color: #3B4455;\n",
              "      fill: #D2E3FC;\n",
              "    }\n",
              "\n",
              "    [theme=dark] .colab-df-convert:hover {\n",
              "      background-color: #434B5C;\n",
              "      box-shadow: 0px 1px 3px 1px rgba(0, 0, 0, 0.15);\n",
              "      filter: drop-shadow(0px 1px 2px rgba(0, 0, 0, 0.3));\n",
              "      fill: #FFFFFF;\n",
              "    }\n",
              "  </style>\n",
              "\n",
              "      <script>\n",
              "        const buttonEl =\n",
              "          document.querySelector('#df-f535607b-5036-4808-b4e4-781b5b81279d button.colab-df-convert');\n",
              "        buttonEl.style.display =\n",
              "          google.colab.kernel.accessAllowed ? 'block' : 'none';\n",
              "\n",
              "        async function convertToInteractive(key) {\n",
              "          const element = document.querySelector('#df-f535607b-5036-4808-b4e4-781b5b81279d');\n",
              "          const dataTable =\n",
              "            await google.colab.kernel.invokeFunction('convertToInteractive',\n",
              "                                                     [key], {});\n",
              "          if (!dataTable) return;\n",
              "\n",
              "          const docLinkHtml = 'Like what you see? Visit the ' +\n",
              "            '<a target=\"_blank\" href=https://colab.research.google.com/notebooks/data_table.ipynb>data table notebook</a>'\n",
              "            + ' to learn more about interactive tables.';\n",
              "          element.innerHTML = '';\n",
              "          dataTable['output_type'] = 'display_data';\n",
              "          await google.colab.output.renderOutput(dataTable, element);\n",
              "          const docLink = document.createElement('div');\n",
              "          docLink.innerHTML = docLinkHtml;\n",
              "          element.appendChild(docLink);\n",
              "        }\n",
              "      </script>\n",
              "    </div>\n",
              "  </div>\n",
              "  "
            ]
          },
          "metadata": {},
          "execution_count": 73
        }
      ]
    },
    {
      "cell_type": "code",
      "source": [
        "# listing name of columns\n",
        "df1.columns"
      ],
      "metadata": {
        "colab": {
          "base_uri": "https://localhost:8080/"
        },
        "id": "qmiYmOtD1kct",
        "outputId": "92376aad-d792-483f-9ff1-ea32769b4337"
      },
      "execution_count": null,
      "outputs": [
        {
          "output_type": "execute_result",
          "data": {
            "text/plain": [
              "Index(['Entity', 'Code', 'Year',\n",
              "       'DALYs (Disability-Adjusted Life Years) - Mental disorders - Sex: Both - Age: All Ages (Percent)'],\n",
              "      dtype='object')"
            ]
          },
          "metadata": {},
          "execution_count": 74
        }
      ]
    },
    {
      "cell_type": "code",
      "source": [
        "df2.columns"
      ],
      "metadata": {
        "colab": {
          "base_uri": "https://localhost:8080/"
        },
        "id": "GlwRW4w01kgK",
        "outputId": "539e86d2-845f-40a2-b55f-8a5bfb21a15d"
      },
      "execution_count": null,
      "outputs": [
        {
          "output_type": "execute_result",
          "data": {
            "text/plain": [
              "Index(['Entity', 'Code', 'Year',\n",
              "       'Prevalence - Schizophrenia - Sex: Both - Age: Age-standardized (Percent)',\n",
              "       'Prevalence - Bipolar disorder - Sex: Both - Age: Age-standardized (Percent)',\n",
              "       'Prevalence - Eating disorders - Sex: Both - Age: Age-standardized (Percent)',\n",
              "       'Prevalence - Anxiety disorders - Sex: Both - Age: Age-standardized (Percent)',\n",
              "       'Prevalence - Drug use disorders - Sex: Both - Age: Age-standardized (Percent)',\n",
              "       'Prevalence - Depressive disorders - Sex: Both - Age: Age-standardized (Percent)',\n",
              "       'Prevalence - Alcohol use disorders - Sex: Both - Age: Age-standardized (Percent)'],\n",
              "      dtype='object')"
            ]
          },
          "metadata": {},
          "execution_count": 75
        }
      ]
    },
    {
      "cell_type": "code",
      "source": [
        "# merging dataset\n",
        "df2['DALYS']=df1[\n",
        "       'DALYs (Disability-Adjusted Life Years) - Mental disorders - Sex: Both - Age: All Ages (Percent)']"
      ],
      "metadata": {
        "id": "saAW-dww1kif"
      },
      "execution_count": null,
      "outputs": []
    },
    {
      "cell_type": "code",
      "source": [
        "df2.head()"
      ],
      "metadata": {
        "colab": {
          "base_uri": "https://localhost:8080/",
          "height": 337
        },
        "id": "Ognnnfmj1klE",
        "outputId": "92878e12-0693-4c87-fd3b-bd4a1747d878"
      },
      "execution_count": null,
      "outputs": [
        {
          "output_type": "execute_result",
          "data": {
            "text/plain": [
              "        Entity Code  Year  \\\n",
              "0  Afghanistan  AFG  1990   \n",
              "1  Afghanistan  AFG  1991   \n",
              "2  Afghanistan  AFG  1992   \n",
              "3  Afghanistan  AFG  1993   \n",
              "4  Afghanistan  AFG  1994   \n",
              "\n",
              "   Prevalence - Schizophrenia - Sex: Both - Age: Age-standardized (Percent)  \\\n",
              "0                                           0.228979                          \n",
              "1                                           0.228120                          \n",
              "2                                           0.227328                          \n",
              "3                                           0.226468                          \n",
              "4                                           0.225567                          \n",
              "\n",
              "   Prevalence - Bipolar disorder - Sex: Both - Age: Age-standardized (Percent)  \\\n",
              "0                                           0.721207                             \n",
              "1                                           0.719952                             \n",
              "2                                           0.718418                             \n",
              "3                                           0.717452                             \n",
              "4                                           0.717012                             \n",
              "\n",
              "   Prevalence - Eating disorders - Sex: Both - Age: Age-standardized (Percent)  \\\n",
              "0                                           0.131001                             \n",
              "1                                           0.126395                             \n",
              "2                                           0.121832                             \n",
              "3                                           0.117942                             \n",
              "4                                           0.114547                             \n",
              "\n",
              "   Prevalence - Anxiety disorders - Sex: Both - Age: Age-standardized (Percent)  \\\n",
              "0                                           4.835127                              \n",
              "1                                           4.821765                              \n",
              "2                                           4.801434                              \n",
              "3                                           4.789363                              \n",
              "4                                           4.784923                              \n",
              "\n",
              "   Prevalence - Drug use disorders - Sex: Both - Age: Age-standardized (Percent)  \\\n",
              "0                                           0.454202                               \n",
              "1                                           0.447112                               \n",
              "2                                           0.441190                               \n",
              "3                                           0.435581                               \n",
              "4                                           0.431822                               \n",
              "\n",
              "   Prevalence - Depressive disorders - Sex: Both - Age: Age-standardized (Percent)  \\\n",
              "0                                           5.125291                                 \n",
              "1                                           5.116306                                 \n",
              "2                                           5.106558                                 \n",
              "3                                           5.100328                                 \n",
              "4                                           5.099424                                 \n",
              "\n",
              "   Prevalence - Alcohol use disorders - Sex: Both - Age: Age-standardized (Percent)  \\\n",
              "0                                           0.444036                                  \n",
              "1                                           0.444250                                  \n",
              "2                                           0.445501                                  \n",
              "3                                           0.445958                                  \n",
              "4                                           0.445779                                  \n",
              "\n",
              "      DALYS  \n",
              "0  1.696670  \n",
              "1  1.734281  \n",
              "2  1.791189  \n",
              "3  1.776779  \n",
              "4  1.712986  "
            ],
            "text/html": [
              "\n",
              "  <div id=\"df-09115803-b21f-4762-bc1f-eb30c002d2d0\">\n",
              "    <div class=\"colab-df-container\">\n",
              "      <div>\n",
              "<style scoped>\n",
              "    .dataframe tbody tr th:only-of-type {\n",
              "        vertical-align: middle;\n",
              "    }\n",
              "\n",
              "    .dataframe tbody tr th {\n",
              "        vertical-align: top;\n",
              "    }\n",
              "\n",
              "    .dataframe thead th {\n",
              "        text-align: right;\n",
              "    }\n",
              "</style>\n",
              "<table border=\"1\" class=\"dataframe\">\n",
              "  <thead>\n",
              "    <tr style=\"text-align: right;\">\n",
              "      <th></th>\n",
              "      <th>Entity</th>\n",
              "      <th>Code</th>\n",
              "      <th>Year</th>\n",
              "      <th>Prevalence - Schizophrenia - Sex: Both - Age: Age-standardized (Percent)</th>\n",
              "      <th>Prevalence - Bipolar disorder - Sex: Both - Age: Age-standardized (Percent)</th>\n",
              "      <th>Prevalence - Eating disorders - Sex: Both - Age: Age-standardized (Percent)</th>\n",
              "      <th>Prevalence - Anxiety disorders - Sex: Both - Age: Age-standardized (Percent)</th>\n",
              "      <th>Prevalence - Drug use disorders - Sex: Both - Age: Age-standardized (Percent)</th>\n",
              "      <th>Prevalence - Depressive disorders - Sex: Both - Age: Age-standardized (Percent)</th>\n",
              "      <th>Prevalence - Alcohol use disorders - Sex: Both - Age: Age-standardized (Percent)</th>\n",
              "      <th>DALYS</th>\n",
              "    </tr>\n",
              "  </thead>\n",
              "  <tbody>\n",
              "    <tr>\n",
              "      <th>0</th>\n",
              "      <td>Afghanistan</td>\n",
              "      <td>AFG</td>\n",
              "      <td>1990</td>\n",
              "      <td>0.228979</td>\n",
              "      <td>0.721207</td>\n",
              "      <td>0.131001</td>\n",
              "      <td>4.835127</td>\n",
              "      <td>0.454202</td>\n",
              "      <td>5.125291</td>\n",
              "      <td>0.444036</td>\n",
              "      <td>1.696670</td>\n",
              "    </tr>\n",
              "    <tr>\n",
              "      <th>1</th>\n",
              "      <td>Afghanistan</td>\n",
              "      <td>AFG</td>\n",
              "      <td>1991</td>\n",
              "      <td>0.228120</td>\n",
              "      <td>0.719952</td>\n",
              "      <td>0.126395</td>\n",
              "      <td>4.821765</td>\n",
              "      <td>0.447112</td>\n",
              "      <td>5.116306</td>\n",
              "      <td>0.444250</td>\n",
              "      <td>1.734281</td>\n",
              "    </tr>\n",
              "    <tr>\n",
              "      <th>2</th>\n",
              "      <td>Afghanistan</td>\n",
              "      <td>AFG</td>\n",
              "      <td>1992</td>\n",
              "      <td>0.227328</td>\n",
              "      <td>0.718418</td>\n",
              "      <td>0.121832</td>\n",
              "      <td>4.801434</td>\n",
              "      <td>0.441190</td>\n",
              "      <td>5.106558</td>\n",
              "      <td>0.445501</td>\n",
              "      <td>1.791189</td>\n",
              "    </tr>\n",
              "    <tr>\n",
              "      <th>3</th>\n",
              "      <td>Afghanistan</td>\n",
              "      <td>AFG</td>\n",
              "      <td>1993</td>\n",
              "      <td>0.226468</td>\n",
              "      <td>0.717452</td>\n",
              "      <td>0.117942</td>\n",
              "      <td>4.789363</td>\n",
              "      <td>0.435581</td>\n",
              "      <td>5.100328</td>\n",
              "      <td>0.445958</td>\n",
              "      <td>1.776779</td>\n",
              "    </tr>\n",
              "    <tr>\n",
              "      <th>4</th>\n",
              "      <td>Afghanistan</td>\n",
              "      <td>AFG</td>\n",
              "      <td>1994</td>\n",
              "      <td>0.225567</td>\n",
              "      <td>0.717012</td>\n",
              "      <td>0.114547</td>\n",
              "      <td>4.784923</td>\n",
              "      <td>0.431822</td>\n",
              "      <td>5.099424</td>\n",
              "      <td>0.445779</td>\n",
              "      <td>1.712986</td>\n",
              "    </tr>\n",
              "  </tbody>\n",
              "</table>\n",
              "</div>\n",
              "      <button class=\"colab-df-convert\" onclick=\"convertToInteractive('df-09115803-b21f-4762-bc1f-eb30c002d2d0')\"\n",
              "              title=\"Convert this dataframe to an interactive table.\"\n",
              "              style=\"display:none;\">\n",
              "        \n",
              "  <svg xmlns=\"http://www.w3.org/2000/svg\" height=\"24px\"viewBox=\"0 0 24 24\"\n",
              "       width=\"24px\">\n",
              "    <path d=\"M0 0h24v24H0V0z\" fill=\"none\"/>\n",
              "    <path d=\"M18.56 5.44l.94 2.06.94-2.06 2.06-.94-2.06-.94-.94-2.06-.94 2.06-2.06.94zm-11 1L8.5 8.5l.94-2.06 2.06-.94-2.06-.94L8.5 2.5l-.94 2.06-2.06.94zm10 10l.94 2.06.94-2.06 2.06-.94-2.06-.94-.94-2.06-.94 2.06-2.06.94z\"/><path d=\"M17.41 7.96l-1.37-1.37c-.4-.4-.92-.59-1.43-.59-.52 0-1.04.2-1.43.59L10.3 9.45l-7.72 7.72c-.78.78-.78 2.05 0 2.83L4 21.41c.39.39.9.59 1.41.59.51 0 1.02-.2 1.41-.59l7.78-7.78 2.81-2.81c.8-.78.8-2.07 0-2.86zM5.41 20L4 18.59l7.72-7.72 1.47 1.35L5.41 20z\"/>\n",
              "  </svg>\n",
              "      </button>\n",
              "      \n",
              "  <style>\n",
              "    .colab-df-container {\n",
              "      display:flex;\n",
              "      flex-wrap:wrap;\n",
              "      gap: 12px;\n",
              "    }\n",
              "\n",
              "    .colab-df-convert {\n",
              "      background-color: #E8F0FE;\n",
              "      border: none;\n",
              "      border-radius: 50%;\n",
              "      cursor: pointer;\n",
              "      display: none;\n",
              "      fill: #1967D2;\n",
              "      height: 32px;\n",
              "      padding: 0 0 0 0;\n",
              "      width: 32px;\n",
              "    }\n",
              "\n",
              "    .colab-df-convert:hover {\n",
              "      background-color: #E2EBFA;\n",
              "      box-shadow: 0px 1px 2px rgba(60, 64, 67, 0.3), 0px 1px 3px 1px rgba(60, 64, 67, 0.15);\n",
              "      fill: #174EA6;\n",
              "    }\n",
              "\n",
              "    [theme=dark] .colab-df-convert {\n",
              "      background-color: #3B4455;\n",
              "      fill: #D2E3FC;\n",
              "    }\n",
              "\n",
              "    [theme=dark] .colab-df-convert:hover {\n",
              "      background-color: #434B5C;\n",
              "      box-shadow: 0px 1px 3px 1px rgba(0, 0, 0, 0.15);\n",
              "      filter: drop-shadow(0px 1px 2px rgba(0, 0, 0, 0.3));\n",
              "      fill: #FFFFFF;\n",
              "    }\n",
              "  </style>\n",
              "\n",
              "      <script>\n",
              "        const buttonEl =\n",
              "          document.querySelector('#df-09115803-b21f-4762-bc1f-eb30c002d2d0 button.colab-df-convert');\n",
              "        buttonEl.style.display =\n",
              "          google.colab.kernel.accessAllowed ? 'block' : 'none';\n",
              "\n",
              "        async function convertToInteractive(key) {\n",
              "          const element = document.querySelector('#df-09115803-b21f-4762-bc1f-eb30c002d2d0');\n",
              "          const dataTable =\n",
              "            await google.colab.kernel.invokeFunction('convertToInteractive',\n",
              "                                                     [key], {});\n",
              "          if (!dataTable) return;\n",
              "\n",
              "          const docLinkHtml = 'Like what you see? Visit the ' +\n",
              "            '<a target=\"_blank\" href=https://colab.research.google.com/notebooks/data_table.ipynb>data table notebook</a>'\n",
              "            + ' to learn more about interactive tables.';\n",
              "          element.innerHTML = '';\n",
              "          dataTable['output_type'] = 'display_data';\n",
              "          await google.colab.output.renderOutput(dataTable, element);\n",
              "          const docLink = document.createElement('div');\n",
              "          docLink.innerHTML = docLinkHtml;\n",
              "          element.appendChild(docLink);\n",
              "        }\n",
              "      </script>\n",
              "    </div>\n",
              "  </div>\n",
              "  "
            ]
          },
          "metadata": {},
          "execution_count": 77
        }
      ]
    },
    {
      "cell_type": "code",
      "source": [
        "df2.isnull().sum()    # checking null values"
      ],
      "metadata": {
        "colab": {
          "base_uri": "https://localhost:8080/"
        },
        "id": "-qsLU5wp1kov",
        "outputId": "a2ba3bbd-acac-4540-8d93-c4f3b7bc289b"
      },
      "execution_count": null,
      "outputs": [
        {
          "output_type": "execute_result",
          "data": {
            "text/plain": [
              "Entity                                                                                0\n",
              "Code                                                                                690\n",
              "Year                                                                                  0\n",
              "Prevalence - Schizophrenia - Sex: Both - Age: Age-standardized (Percent)              0\n",
              "Prevalence - Bipolar disorder - Sex: Both - Age: Age-standardized (Percent)           0\n",
              "Prevalence - Eating disorders - Sex: Both - Age: Age-standardized (Percent)           0\n",
              "Prevalence - Anxiety disorders - Sex: Both - Age: Age-standardized (Percent)          0\n",
              "Prevalence - Drug use disorders - Sex: Both - Age: Age-standardized (Percent)         0\n",
              "Prevalence - Depressive disorders - Sex: Both - Age: Age-standardized (Percent)       0\n",
              "Prevalence - Alcohol use disorders - Sex: Both - Age: Age-standardized (Percent)      0\n",
              "DALYS                                                                                 0\n",
              "dtype: int64"
            ]
          },
          "metadata": {},
          "execution_count": 78
        }
      ]
    },
    {
      "cell_type": "code",
      "source": [
        "l=df2['Code'].value_counts()  # checking categories of code coumn"
      ],
      "metadata": {
        "id": "8yzfHq3H2yH1"
      },
      "execution_count": null,
      "outputs": []
    },
    {
      "cell_type": "code",
      "source": [
        "l"
      ],
      "metadata": {
        "colab": {
          "base_uri": "https://localhost:8080/"
        },
        "id": "Wk3rkn7i2yKk",
        "outputId": "48356a9c-0731-4afd-f61c-c85f2a7cdcbb"
      },
      "execution_count": null,
      "outputs": [
        {
          "output_type": "execute_result",
          "data": {
            "text/plain": [
              "AFG    30\n",
              "PRY    30\n",
              "PRK    30\n",
              "MKD    30\n",
              "MNP    30\n",
              "       ..\n",
              "GRD    30\n",
              "GUM    30\n",
              "GTM    30\n",
              "GIN    30\n",
              "ZWE    30\n",
              "Name: Code, Length: 205, dtype: int64"
            ]
          },
          "metadata": {},
          "execution_count": 80
        }
      ]
    },
    {
      "cell_type": "code",
      "source": [
        "df=df2[df2['Code'].isnull()==False] # removing null values"
      ],
      "metadata": {
        "id": "N5Lh26bI2yOW"
      },
      "execution_count": null,
      "outputs": []
    },
    {
      "cell_type": "code",
      "source": [
        "df.isnull().sum()"
      ],
      "metadata": {
        "colab": {
          "base_uri": "https://localhost:8080/"
        },
        "id": "08qh89F22yP_",
        "outputId": "7b0614d8-5099-4624-c01f-9dc27457381c"
      },
      "execution_count": null,
      "outputs": [
        {
          "output_type": "execute_result",
          "data": {
            "text/plain": [
              "Entity                                                                              0\n",
              "Code                                                                                0\n",
              "Year                                                                                0\n",
              "Prevalence - Schizophrenia - Sex: Both - Age: Age-standardized (Percent)            0\n",
              "Prevalence - Bipolar disorder - Sex: Both - Age: Age-standardized (Percent)         0\n",
              "Prevalence - Eating disorders - Sex: Both - Age: Age-standardized (Percent)         0\n",
              "Prevalence - Anxiety disorders - Sex: Both - Age: Age-standardized (Percent)        0\n",
              "Prevalence - Drug use disorders - Sex: Both - Age: Age-standardized (Percent)       0\n",
              "Prevalence - Depressive disorders - Sex: Both - Age: Age-standardized (Percent)     0\n",
              "Prevalence - Alcohol use disorders - Sex: Both - Age: Age-standardized (Percent)    0\n",
              "DALYS                                                                               0\n",
              "dtype: int64"
            ]
          },
          "metadata": {},
          "execution_count": 53
        }
      ]
    },
    {
      "cell_type": "code",
      "source": [
        "df.info()   # taking information about dataset"
      ],
      "metadata": {
        "colab": {
          "base_uri": "https://localhost:8080/"
        },
        "id": "zmESz36R2yS1",
        "outputId": "aff00ac9-e654-4386-cd70-9a0dd8c07d34"
      },
      "execution_count": null,
      "outputs": [
        {
          "output_type": "stream",
          "name": "stdout",
          "text": [
            "<class 'pandas.core.frame.DataFrame'>\n",
            "Int64Index: 6150 entries, 0 to 6839\n",
            "Data columns (total 11 columns):\n",
            " #   Column                                                                            Non-Null Count  Dtype  \n",
            "---  ------                                                                            --------------  -----  \n",
            " 0   Entity                                                                            6150 non-null   object \n",
            " 1   Code                                                                              6150 non-null   object \n",
            " 2   Year                                                                              6150 non-null   int64  \n",
            " 3   Prevalence - Schizophrenia - Sex: Both - Age: Age-standardized (Percent)          6150 non-null   float64\n",
            " 4   Prevalence - Bipolar disorder - Sex: Both - Age: Age-standardized (Percent)       6150 non-null   float64\n",
            " 5   Prevalence - Eating disorders - Sex: Both - Age: Age-standardized (Percent)       6150 non-null   float64\n",
            " 6   Prevalence - Anxiety disorders - Sex: Both - Age: Age-standardized (Percent)      6150 non-null   float64\n",
            " 7   Prevalence - Drug use disorders - Sex: Both - Age: Age-standardized (Percent)     6150 non-null   float64\n",
            " 8   Prevalence - Depressive disorders - Sex: Both - Age: Age-standardized (Percent)   6150 non-null   float64\n",
            " 9   Prevalence - Alcohol use disorders - Sex: Both - Age: Age-standardized (Percent)  6150 non-null   float64\n",
            " 10  DALYS                                                                             6150 non-null   float64\n",
            "dtypes: float64(8), int64(1), object(2)\n",
            "memory usage: 576.6+ KB\n"
          ]
        }
      ]
    },
    {
      "cell_type": "code",
      "source": [
        "df['Year'].value_counts()   # checking categories in year column"
      ],
      "metadata": {
        "colab": {
          "base_uri": "https://localhost:8080/"
        },
        "id": "TxmEqKpT2yVR",
        "outputId": "eb6fcdcd-a791-409d-9715-51687e7d5bd1"
      },
      "execution_count": null,
      "outputs": [
        {
          "output_type": "execute_result",
          "data": {
            "text/plain": [
              "1990    205\n",
              "1991    205\n",
              "2018    205\n",
              "2017    205\n",
              "2016    205\n",
              "2015    205\n",
              "2014    205\n",
              "2013    205\n",
              "2012    205\n",
              "2011    205\n",
              "2010    205\n",
              "2009    205\n",
              "2008    205\n",
              "2007    205\n",
              "2006    205\n",
              "2005    205\n",
              "2004    205\n",
              "2003    205\n",
              "2002    205\n",
              "2001    205\n",
              "2000    205\n",
              "1999    205\n",
              "1998    205\n",
              "1997    205\n",
              "1996    205\n",
              "1995    205\n",
              "1994    205\n",
              "1993    205\n",
              "1992    205\n",
              "2019    205\n",
              "Name: Year, dtype: int64"
            ]
          },
          "metadata": {},
          "execution_count": 83
        }
      ]
    },
    {
      "cell_type": "code",
      "source": [
        "# importing machine learning algorithm for training and testing\n",
        "from sklearn.linear_model import LinearRegression\n",
        "from sklearn.preprocessing import StandardScaler"
      ],
      "metadata": {
        "id": "0f1Ef2Mk2yYE"
      },
      "execution_count": null,
      "outputs": []
    },
    {
      "cell_type": "code",
      "source": [
        "df.head()"
      ],
      "metadata": {
        "colab": {
          "base_uri": "https://localhost:8080/",
          "height": 337
        },
        "id": "jcjVgY-A2ydl",
        "outputId": "271e71ab-ebdd-420b-a361-eeaf8e917a58"
      },
      "execution_count": null,
      "outputs": [
        {
          "output_type": "execute_result",
          "data": {
            "text/plain": [
              "        Entity Code  Year  \\\n",
              "0  Afghanistan  AFG  1990   \n",
              "1  Afghanistan  AFG  1991   \n",
              "2  Afghanistan  AFG  1992   \n",
              "3  Afghanistan  AFG  1993   \n",
              "4  Afghanistan  AFG  1994   \n",
              "\n",
              "   Prevalence - Schizophrenia - Sex: Both - Age: Age-standardized (Percent)  \\\n",
              "0                                           0.228979                          \n",
              "1                                           0.228120                          \n",
              "2                                           0.227328                          \n",
              "3                                           0.226468                          \n",
              "4                                           0.225567                          \n",
              "\n",
              "   Prevalence - Bipolar disorder - Sex: Both - Age: Age-standardized (Percent)  \\\n",
              "0                                           0.721207                             \n",
              "1                                           0.719952                             \n",
              "2                                           0.718418                             \n",
              "3                                           0.717452                             \n",
              "4                                           0.717012                             \n",
              "\n",
              "   Prevalence - Eating disorders - Sex: Both - Age: Age-standardized (Percent)  \\\n",
              "0                                           0.131001                             \n",
              "1                                           0.126395                             \n",
              "2                                           0.121832                             \n",
              "3                                           0.117942                             \n",
              "4                                           0.114547                             \n",
              "\n",
              "   Prevalence - Anxiety disorders - Sex: Both - Age: Age-standardized (Percent)  \\\n",
              "0                                           4.835127                              \n",
              "1                                           4.821765                              \n",
              "2                                           4.801434                              \n",
              "3                                           4.789363                              \n",
              "4                                           4.784923                              \n",
              "\n",
              "   Prevalence - Drug use disorders - Sex: Both - Age: Age-standardized (Percent)  \\\n",
              "0                                           0.454202                               \n",
              "1                                           0.447112                               \n",
              "2                                           0.441190                               \n",
              "3                                           0.435581                               \n",
              "4                                           0.431822                               \n",
              "\n",
              "   Prevalence - Depressive disorders - Sex: Both - Age: Age-standardized (Percent)  \\\n",
              "0                                           5.125291                                 \n",
              "1                                           5.116306                                 \n",
              "2                                           5.106558                                 \n",
              "3                                           5.100328                                 \n",
              "4                                           5.099424                                 \n",
              "\n",
              "   Prevalence - Alcohol use disorders - Sex: Both - Age: Age-standardized (Percent)  \\\n",
              "0                                           0.444036                                  \n",
              "1                                           0.444250                                  \n",
              "2                                           0.445501                                  \n",
              "3                                           0.445958                                  \n",
              "4                                           0.445779                                  \n",
              "\n",
              "      DALYS  \n",
              "0  1.696670  \n",
              "1  1.734281  \n",
              "2  1.791189  \n",
              "3  1.776779  \n",
              "4  1.712986  "
            ],
            "text/html": [
              "\n",
              "  <div id=\"df-209fdc0f-9bc4-4b23-8b43-cdecc32ae182\">\n",
              "    <div class=\"colab-df-container\">\n",
              "      <div>\n",
              "<style scoped>\n",
              "    .dataframe tbody tr th:only-of-type {\n",
              "        vertical-align: middle;\n",
              "    }\n",
              "\n",
              "    .dataframe tbody tr th {\n",
              "        vertical-align: top;\n",
              "    }\n",
              "\n",
              "    .dataframe thead th {\n",
              "        text-align: right;\n",
              "    }\n",
              "</style>\n",
              "<table border=\"1\" class=\"dataframe\">\n",
              "  <thead>\n",
              "    <tr style=\"text-align: right;\">\n",
              "      <th></th>\n",
              "      <th>Entity</th>\n",
              "      <th>Code</th>\n",
              "      <th>Year</th>\n",
              "      <th>Prevalence - Schizophrenia - Sex: Both - Age: Age-standardized (Percent)</th>\n",
              "      <th>Prevalence - Bipolar disorder - Sex: Both - Age: Age-standardized (Percent)</th>\n",
              "      <th>Prevalence - Eating disorders - Sex: Both - Age: Age-standardized (Percent)</th>\n",
              "      <th>Prevalence - Anxiety disorders - Sex: Both - Age: Age-standardized (Percent)</th>\n",
              "      <th>Prevalence - Drug use disorders - Sex: Both - Age: Age-standardized (Percent)</th>\n",
              "      <th>Prevalence - Depressive disorders - Sex: Both - Age: Age-standardized (Percent)</th>\n",
              "      <th>Prevalence - Alcohol use disorders - Sex: Both - Age: Age-standardized (Percent)</th>\n",
              "      <th>DALYS</th>\n",
              "    </tr>\n",
              "  </thead>\n",
              "  <tbody>\n",
              "    <tr>\n",
              "      <th>0</th>\n",
              "      <td>Afghanistan</td>\n",
              "      <td>AFG</td>\n",
              "      <td>1990</td>\n",
              "      <td>0.228979</td>\n",
              "      <td>0.721207</td>\n",
              "      <td>0.131001</td>\n",
              "      <td>4.835127</td>\n",
              "      <td>0.454202</td>\n",
              "      <td>5.125291</td>\n",
              "      <td>0.444036</td>\n",
              "      <td>1.696670</td>\n",
              "    </tr>\n",
              "    <tr>\n",
              "      <th>1</th>\n",
              "      <td>Afghanistan</td>\n",
              "      <td>AFG</td>\n",
              "      <td>1991</td>\n",
              "      <td>0.228120</td>\n",
              "      <td>0.719952</td>\n",
              "      <td>0.126395</td>\n",
              "      <td>4.821765</td>\n",
              "      <td>0.447112</td>\n",
              "      <td>5.116306</td>\n",
              "      <td>0.444250</td>\n",
              "      <td>1.734281</td>\n",
              "    </tr>\n",
              "    <tr>\n",
              "      <th>2</th>\n",
              "      <td>Afghanistan</td>\n",
              "      <td>AFG</td>\n",
              "      <td>1992</td>\n",
              "      <td>0.227328</td>\n",
              "      <td>0.718418</td>\n",
              "      <td>0.121832</td>\n",
              "      <td>4.801434</td>\n",
              "      <td>0.441190</td>\n",
              "      <td>5.106558</td>\n",
              "      <td>0.445501</td>\n",
              "      <td>1.791189</td>\n",
              "    </tr>\n",
              "    <tr>\n",
              "      <th>3</th>\n",
              "      <td>Afghanistan</td>\n",
              "      <td>AFG</td>\n",
              "      <td>1993</td>\n",
              "      <td>0.226468</td>\n",
              "      <td>0.717452</td>\n",
              "      <td>0.117942</td>\n",
              "      <td>4.789363</td>\n",
              "      <td>0.435581</td>\n",
              "      <td>5.100328</td>\n",
              "      <td>0.445958</td>\n",
              "      <td>1.776779</td>\n",
              "    </tr>\n",
              "    <tr>\n",
              "      <th>4</th>\n",
              "      <td>Afghanistan</td>\n",
              "      <td>AFG</td>\n",
              "      <td>1994</td>\n",
              "      <td>0.225567</td>\n",
              "      <td>0.717012</td>\n",
              "      <td>0.114547</td>\n",
              "      <td>4.784923</td>\n",
              "      <td>0.431822</td>\n",
              "      <td>5.099424</td>\n",
              "      <td>0.445779</td>\n",
              "      <td>1.712986</td>\n",
              "    </tr>\n",
              "  </tbody>\n",
              "</table>\n",
              "</div>\n",
              "      <button class=\"colab-df-convert\" onclick=\"convertToInteractive('df-209fdc0f-9bc4-4b23-8b43-cdecc32ae182')\"\n",
              "              title=\"Convert this dataframe to an interactive table.\"\n",
              "              style=\"display:none;\">\n",
              "        \n",
              "  <svg xmlns=\"http://www.w3.org/2000/svg\" height=\"24px\"viewBox=\"0 0 24 24\"\n",
              "       width=\"24px\">\n",
              "    <path d=\"M0 0h24v24H0V0z\" fill=\"none\"/>\n",
              "    <path d=\"M18.56 5.44l.94 2.06.94-2.06 2.06-.94-2.06-.94-.94-2.06-.94 2.06-2.06.94zm-11 1L8.5 8.5l.94-2.06 2.06-.94-2.06-.94L8.5 2.5l-.94 2.06-2.06.94zm10 10l.94 2.06.94-2.06 2.06-.94-2.06-.94-.94-2.06-.94 2.06-2.06.94z\"/><path d=\"M17.41 7.96l-1.37-1.37c-.4-.4-.92-.59-1.43-.59-.52 0-1.04.2-1.43.59L10.3 9.45l-7.72 7.72c-.78.78-.78 2.05 0 2.83L4 21.41c.39.39.9.59 1.41.59.51 0 1.02-.2 1.41-.59l7.78-7.78 2.81-2.81c.8-.78.8-2.07 0-2.86zM5.41 20L4 18.59l7.72-7.72 1.47 1.35L5.41 20z\"/>\n",
              "  </svg>\n",
              "      </button>\n",
              "      \n",
              "  <style>\n",
              "    .colab-df-container {\n",
              "      display:flex;\n",
              "      flex-wrap:wrap;\n",
              "      gap: 12px;\n",
              "    }\n",
              "\n",
              "    .colab-df-convert {\n",
              "      background-color: #E8F0FE;\n",
              "      border: none;\n",
              "      border-radius: 50%;\n",
              "      cursor: pointer;\n",
              "      display: none;\n",
              "      fill: #1967D2;\n",
              "      height: 32px;\n",
              "      padding: 0 0 0 0;\n",
              "      width: 32px;\n",
              "    }\n",
              "\n",
              "    .colab-df-convert:hover {\n",
              "      background-color: #E2EBFA;\n",
              "      box-shadow: 0px 1px 2px rgba(60, 64, 67, 0.3), 0px 1px 3px 1px rgba(60, 64, 67, 0.15);\n",
              "      fill: #174EA6;\n",
              "    }\n",
              "\n",
              "    [theme=dark] .colab-df-convert {\n",
              "      background-color: #3B4455;\n",
              "      fill: #D2E3FC;\n",
              "    }\n",
              "\n",
              "    [theme=dark] .colab-df-convert:hover {\n",
              "      background-color: #434B5C;\n",
              "      box-shadow: 0px 1px 3px 1px rgba(0, 0, 0, 0.15);\n",
              "      filter: drop-shadow(0px 1px 2px rgba(0, 0, 0, 0.3));\n",
              "      fill: #FFFFFF;\n",
              "    }\n",
              "  </style>\n",
              "\n",
              "      <script>\n",
              "        const buttonEl =\n",
              "          document.querySelector('#df-209fdc0f-9bc4-4b23-8b43-cdecc32ae182 button.colab-df-convert');\n",
              "        buttonEl.style.display =\n",
              "          google.colab.kernel.accessAllowed ? 'block' : 'none';\n",
              "\n",
              "        async function convertToInteractive(key) {\n",
              "          const element = document.querySelector('#df-209fdc0f-9bc4-4b23-8b43-cdecc32ae182');\n",
              "          const dataTable =\n",
              "            await google.colab.kernel.invokeFunction('convertToInteractive',\n",
              "                                                     [key], {});\n",
              "          if (!dataTable) return;\n",
              "\n",
              "          const docLinkHtml = 'Like what you see? Visit the ' +\n",
              "            '<a target=\"_blank\" href=https://colab.research.google.com/notebooks/data_table.ipynb>data table notebook</a>'\n",
              "            + ' to learn more about interactive tables.';\n",
              "          element.innerHTML = '';\n",
              "          dataTable['output_type'] = 'display_data';\n",
              "          await google.colab.output.renderOutput(dataTable, element);\n",
              "          const docLink = document.createElement('div');\n",
              "          docLink.innerHTML = docLinkHtml;\n",
              "          element.appendChild(docLink);\n",
              "        }\n",
              "      </script>\n",
              "    </div>\n",
              "  </div>\n",
              "  "
            ]
          },
          "metadata": {},
          "execution_count": 85
        }
      ]
    },
    {
      "cell_type": "code",
      "source": [
        "df.columns"
      ],
      "metadata": {
        "colab": {
          "base_uri": "https://localhost:8080/"
        },
        "id": "23PNT8pC4p4L",
        "outputId": "0a09b577-2883-4732-bfc6-909dd60bbde8"
      },
      "execution_count": null,
      "outputs": [
        {
          "output_type": "execute_result",
          "data": {
            "text/plain": [
              "Index(['Entity', 'Code', 'Year',\n",
              "       'Prevalence - Schizophrenia - Sex: Both - Age: Age-standardized (Percent)',\n",
              "       'Prevalence - Bipolar disorder - Sex: Both - Age: Age-standardized (Percent)',\n",
              "       'Prevalence - Eating disorders - Sex: Both - Age: Age-standardized (Percent)',\n",
              "       'Prevalence - Anxiety disorders - Sex: Both - Age: Age-standardized (Percent)',\n",
              "       'Prevalence - Drug use disorders - Sex: Both - Age: Age-standardized (Percent)',\n",
              "       'Prevalence - Depressive disorders - Sex: Both - Age: Age-standardized (Percent)',\n",
              "       'Prevalence - Alcohol use disorders - Sex: Both - Age: Age-standardized (Percent)',\n",
              "       'DALYS'],\n",
              "      dtype='object')"
            ]
          },
          "metadata": {},
          "execution_count": 86
        }
      ]
    },
    {
      "cell_type": "code",
      "source": [
        "x=df[[\n",
        "       'Prevalence - Schizophrenia - Sex: Both - Age: Age-standardized (Percent)',\n",
        "       'Prevalence - Bipolar disorder - Sex: Both - Age: Age-standardized (Percent)',\n",
        "       'Prevalence - Eating disorders - Sex: Both - Age: Age-standardized (Percent)',\n",
        "       'Prevalence - Anxiety disorders - Sex: Both - Age: Age-standardized (Percent)',\n",
        "       'Prevalence - Drug use disorders - Sex: Both - Age: Age-standardized (Percent)',\n",
        "       'Prevalence - Depressive disorders - Sex: Both - Age: Age-standardized (Percent)',\n",
        "       'Prevalence - Alcohol use disorders - Sex: Both - Age: Age-standardized (Percent)']]"
      ],
      "metadata": {
        "id": "DnrMW4514p7R"
      },
      "execution_count": null,
      "outputs": []
    },
    {
      "cell_type": "code",
      "source": [
        "y=df['DALYS']"
      ],
      "metadata": {
        "id": "TQ8LddwB4p-I"
      },
      "execution_count": null,
      "outputs": []
    },
    {
      "cell_type": "code",
      "source": [
        "x_train, x_test, y_train, y_test = train_test_split(x, y, test_size=0.25, random_state=20)\n",
        "print(x_train.shape, y_train.shape)\n",
        "print(x_test.shape, y_test.shape)"
      ],
      "metadata": {
        "colab": {
          "base_uri": "https://localhost:8080/"
        },
        "id": "h3efoxCt8HdL",
        "outputId": "fecda9b3-06f5-499c-b4fb-be09982aea5e"
      },
      "execution_count": null,
      "outputs": [
        {
          "output_type": "stream",
          "name": "stdout",
          "text": [
            "(4612, 7) (4612,)\n",
            "(1538, 7) (1538,)\n"
          ]
        }
      ]
    },
    {
      "cell_type": "code",
      "source": [
        "lr=LinearRegression()\n",
        "lr.fit(x_train,y_train)"
      ],
      "metadata": {
        "colab": {
          "base_uri": "https://localhost:8080/",
          "height": 74
        },
        "id": "zXNd-KAa8Hi6",
        "outputId": "7375a1dc-444a-4207-ede7-994c2636e3df"
      },
      "execution_count": null,
      "outputs": [
        {
          "output_type": "execute_result",
          "data": {
            "text/plain": [
              "LinearRegression()"
            ],
            "text/html": [
              "<style>#sk-container-id-2 {color: black;background-color: white;}#sk-container-id-2 pre{padding: 0;}#sk-container-id-2 div.sk-toggleable {background-color: white;}#sk-container-id-2 label.sk-toggleable__label {cursor: pointer;display: block;width: 100%;margin-bottom: 0;padding: 0.3em;box-sizing: border-box;text-align: center;}#sk-container-id-2 label.sk-toggleable__label-arrow:before {content: \"▸\";float: left;margin-right: 0.25em;color: #696969;}#sk-container-id-2 label.sk-toggleable__label-arrow:hover:before {color: black;}#sk-container-id-2 div.sk-estimator:hover label.sk-toggleable__label-arrow:before {color: black;}#sk-container-id-2 div.sk-toggleable__content {max-height: 0;max-width: 0;overflow: hidden;text-align: left;background-color: #f0f8ff;}#sk-container-id-2 div.sk-toggleable__content pre {margin: 0.2em;color: black;border-radius: 0.25em;background-color: #f0f8ff;}#sk-container-id-2 input.sk-toggleable__control:checked~div.sk-toggleable__content {max-height: 200px;max-width: 100%;overflow: auto;}#sk-container-id-2 input.sk-toggleable__control:checked~label.sk-toggleable__label-arrow:before {content: \"▾\";}#sk-container-id-2 div.sk-estimator input.sk-toggleable__control:checked~label.sk-toggleable__label {background-color: #d4ebff;}#sk-container-id-2 div.sk-label input.sk-toggleable__control:checked~label.sk-toggleable__label {background-color: #d4ebff;}#sk-container-id-2 input.sk-hidden--visually {border: 0;clip: rect(1px 1px 1px 1px);clip: rect(1px, 1px, 1px, 1px);height: 1px;margin: -1px;overflow: hidden;padding: 0;position: absolute;width: 1px;}#sk-container-id-2 div.sk-estimator {font-family: monospace;background-color: #f0f8ff;border: 1px dotted black;border-radius: 0.25em;box-sizing: border-box;margin-bottom: 0.5em;}#sk-container-id-2 div.sk-estimator:hover {background-color: #d4ebff;}#sk-container-id-2 div.sk-parallel-item::after {content: \"\";width: 100%;border-bottom: 1px solid gray;flex-grow: 1;}#sk-container-id-2 div.sk-label:hover label.sk-toggleable__label {background-color: #d4ebff;}#sk-container-id-2 div.sk-serial::before {content: \"\";position: absolute;border-left: 1px solid gray;box-sizing: border-box;top: 0;bottom: 0;left: 50%;z-index: 0;}#sk-container-id-2 div.sk-serial {display: flex;flex-direction: column;align-items: center;background-color: white;padding-right: 0.2em;padding-left: 0.2em;position: relative;}#sk-container-id-2 div.sk-item {position: relative;z-index: 1;}#sk-container-id-2 div.sk-parallel {display: flex;align-items: stretch;justify-content: center;background-color: white;position: relative;}#sk-container-id-2 div.sk-item::before, #sk-container-id-2 div.sk-parallel-item::before {content: \"\";position: absolute;border-left: 1px solid gray;box-sizing: border-box;top: 0;bottom: 0;left: 50%;z-index: -1;}#sk-container-id-2 div.sk-parallel-item {display: flex;flex-direction: column;z-index: 1;position: relative;background-color: white;}#sk-container-id-2 div.sk-parallel-item:first-child::after {align-self: flex-end;width: 50%;}#sk-container-id-2 div.sk-parallel-item:last-child::after {align-self: flex-start;width: 50%;}#sk-container-id-2 div.sk-parallel-item:only-child::after {width: 0;}#sk-container-id-2 div.sk-dashed-wrapped {border: 1px dashed gray;margin: 0 0.4em 0.5em 0.4em;box-sizing: border-box;padding-bottom: 0.4em;background-color: white;}#sk-container-id-2 div.sk-label label {font-family: monospace;font-weight: bold;display: inline-block;line-height: 1.2em;}#sk-container-id-2 div.sk-label-container {text-align: center;}#sk-container-id-2 div.sk-container {/* jupyter's `normalize.less` sets `[hidden] { display: none; }` but bootstrap.min.css set `[hidden] { display: none !important; }` so we also need the `!important` here to be able to override the default hidden behavior on the sphinx rendered scikit-learn.org. See: https://github.com/scikit-learn/scikit-learn/issues/21755 */display: inline-block !important;position: relative;}#sk-container-id-2 div.sk-text-repr-fallback {display: none;}</style><div id=\"sk-container-id-2\" class=\"sk-top-container\"><div class=\"sk-text-repr-fallback\"><pre>LinearRegression()</pre><b>In a Jupyter environment, please rerun this cell to show the HTML representation or trust the notebook. <br />On GitHub, the HTML representation is unable to render, please try loading this page with nbviewer.org.</b></div><div class=\"sk-container\" hidden><div class=\"sk-item\"><div class=\"sk-estimator sk-toggleable\"><input class=\"sk-toggleable__control sk-hidden--visually\" id=\"sk-estimator-id-2\" type=\"checkbox\" checked><label for=\"sk-estimator-id-2\" class=\"sk-toggleable__label sk-toggleable__label-arrow\">LinearRegression</label><div class=\"sk-toggleable__content\"><pre>LinearRegression()</pre></div></div></div></div></div>"
            ]
          },
          "metadata": {},
          "execution_count": 90
        }
      ]
    },
    {
      "cell_type": "code",
      "source": [
        "lr.coef_"
      ],
      "metadata": {
        "colab": {
          "base_uri": "https://localhost:8080/"
        },
        "id": "6aN43UCT8HmH",
        "outputId": "1ae50810-58f2-44fe-98a9-5b62b1acb2a0"
      },
      "execution_count": null,
      "outputs": [
        {
          "output_type": "execute_result",
          "data": {
            "text/plain": [
              "array([29.80430279,  3.18659432,  3.81096466,  0.2788024 , -1.36114097,\n",
              "        0.14075911, -0.38883971])"
            ]
          },
          "metadata": {},
          "execution_count": 91
        }
      ]
    },
    {
      "cell_type": "code",
      "source": [
        "lr.intercept_"
      ],
      "metadata": {
        "colab": {
          "base_uri": "https://localhost:8080/"
        },
        "id": "hfRNgYin4qBh",
        "outputId": "302973f9-d4cd-4880-d470-39c4a3943ceb"
      },
      "execution_count": null,
      "outputs": [
        {
          "output_type": "execute_result",
          "data": {
            "text/plain": [
              "-6.654307838533478"
            ]
          },
          "metadata": {},
          "execution_count": 92
        }
      ]
    },
    {
      "cell_type": "code",
      "source": [
        "pred=lr.predict(x_test)"
      ],
      "metadata": {
        "id": "umqDixtN6gcl"
      },
      "execution_count": null,
      "outputs": []
    },
    {
      "cell_type": "code",
      "source": [
        "# Linear Regression accuracy\n",
        "lr.score(x_test,y_test)"
      ],
      "metadata": {
        "colab": {
          "base_uri": "https://localhost:8080/"
        },
        "id": "YKLQwQfr6gfZ",
        "outputId": "d79fc397-d67b-4c54-b00b-148d8c7a90fe"
      },
      "execution_count": null,
      "outputs": [
        {
          "output_type": "execute_result",
          "data": {
            "text/plain": [
              "0.7406029622666779"
            ]
          },
          "metadata": {},
          "execution_count": 94
        }
      ]
    },
    {
      "cell_type": "code",
      "source": [
        "from sklearn.metrics import mean_squared_error,r2_score\n",
        "import numpy as np\n",
        "mse=mean_squared_error(y_test,pred)\n",
        "rmse=np.sqrt(mse)\n",
        "print(\"Mean square error\",mse)\n",
        "print(\"Root mean square error\",rmse)"
      ],
      "metadata": {
        "colab": {
          "base_uri": "https://localhost:8080/"
        },
        "id": "rWIbxFNs6gjH",
        "outputId": "e319afc6-82f1-47c2-d956-80d524c3635f"
      },
      "execution_count": null,
      "outputs": [
        {
          "output_type": "stream",
          "name": "stdout",
          "text": [
            "Mean square error 1.4360501360890663\n",
            "Root mean square error 1.1983530932446689\n"
          ]
        }
      ]
    },
    {
      "cell_type": "code",
      "source": [
        "from sklearn.metrics import mean_squared_error,r2_score,mean_absolute_error\n",
        "from sklearn.tree import DecisionTreeRegressor\n",
        "\n",
        "param_grid = {\n",
        "    'max_depth': [None, 5, 10],\n",
        "    'min_samples_split': [2, 5, 10],\n",
        "    'min_samples_leaf': [1, 2, 4],\n",
        "    'max_features': ['auto', 'sqrt']\n",
        "}\n",
        "\n",
        "# Create the Decision Tree model\n",
        "dt = DecisionTreeRegressor()\n",
        "\n",
        "# Perform grid search cross-validation\n",
        "grid_search = GridSearchCV(dt, param_grid, cv=3)\n",
        "grid_search.fit(x_train, y_train)\n",
        "\n",
        "# Print the best hyperparameters\n",
        "print(\"Best Hyperparameters:\", grid_search.best_params_)\n",
        "\n",
        "# Predict on the test set using the best model\n",
        "best_model = grid_search.best_estimator_\n",
        "y_pred = best_model.predict(x_test)\n",
        "\n",
        "# Evaluate the regression performance\n",
        "mse = mean_squared_error(y_test, y_pred)\n",
        "r2 = r2_score(y_test, y_pred)\n",
        "rmse=np.sqrt(mse)"
      ],
      "metadata": {
        "id": "ll9HRWLn83ID"
      },
      "execution_count": null,
      "outputs": []
    },
    {
      "cell_type": "code",
      "source": [
        "# accuracy of decision tree\n",
        "print(\"Mean Squared Error:\", mse)\n",
        "print(\"R-squared:\", r2)\n",
        "print(\"Root mean square error\",rmse)"
      ],
      "metadata": {
        "colab": {
          "base_uri": "https://localhost:8080/"
        },
        "id": "C5n9v8xc83LI",
        "outputId": "648e5180-b296-4485-f168-888b29cf43de"
      },
      "execution_count": null,
      "outputs": [
        {
          "output_type": "stream",
          "name": "stdout",
          "text": [
            "Mean Squared Error: 0.09079170193256178\n",
            "R-squared: 0.9836000861389058\n",
            "Root mean square error 0.30131661409979005\n"
          ]
        }
      ]
    },
    {
      "cell_type": "code",
      "source": [],
      "metadata": {
        "id": "HkbfjZrJ6gny"
      },
      "execution_count": null,
      "outputs": []
    },
    {
      "cell_type": "code",
      "source": [],
      "metadata": {
        "id": "u5blqGMt6gq5"
      },
      "execution_count": null,
      "outputs": []
    }
  ]
}